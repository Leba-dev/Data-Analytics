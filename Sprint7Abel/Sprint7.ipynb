{
 "cells": [
  {
   "cell_type": "markdown",
   "metadata": {},
   "source": [
    "Sprint 7\n",
    "Abel"
   ]
  },
  {
   "cell_type": "markdown",
   "metadata": {},
   "source": [
    "Nivel 1\n",
    "\n",
    "\n",
    "\n",
    "- Ejercicio 1\n",
    "\n",
    "Calculadora del índice de masa corporal\n",
    "\n",
    "    Escribe una función que calcule el IMC ingresado por el usuario/a, es decir, quien lo ejecute deberá ingresar estos datos. Puedes obtener más información de su cálculo en:\n",
    "\n",
    "    -> Índice de masa corporal IMC que es y cómo se calcula.\n",
    "    La función debe clasificar el resultado en sus respectivas categorías"
   ]
  },
  {
   "cell_type": "code",
   "execution_count": 4,
   "metadata": {},
   "outputs": [
    {
     "name": "stdout",
     "output_type": "stream",
     "text": [
      "Tu indice de masa corporal (IMC) es: 0.01\n",
      "Categoria: Peso mosca\n"
     ]
    }
   ],
   "source": [
    "# Se define la funcion def nombre () y no se añade ningun parametro.\n",
    "def calcular_imc():\n",
    "    try:# Estuctura para poder intoduccir un Except.Estructura try-except para manejar errores en caso de que el usuario no ingrese un valor numérico\n",
    "        # Pedimos al usuario su peso y altura\n",
    "        # Variables peso y altura. Donde asignamos  tipo de datos. Con un imput con un ejemplo a seguir.\n",
    "        peso = float(input(\"Introduce tu peso en kg (ej: 80.9): \")) \n",
    "        altura = float(input(\"Introduce tu altura en metros (ej: 1.75): \"))\n",
    "        \n",
    "        # Calculo del IMC\n",
    "        # Se genera el calculo ,con los datos introducios por el usuario.\n",
    "        imc = peso / (altura ** 2)\n",
    "        print(f\"Tu indice de masa corporal (IMC) es: {imc:.2f}\") # En la funcion print, en este string encadenado se define el valor varible imc, numerico .2f limite de (float)\n",
    "        \n",
    "        \n",
    "        # Clasificacion segun el IMC\n",
    "        # Estructura condicional, donde el imc (Calculo imc) marca los limites entre categorias.\n",
    "        if imc < 18.5:\n",
    "            categoria = \"Peso mosca\"\n",
    "        elif 18.5 <= imc < 24.9:\n",
    "            categoria = \"Peso normal\"\n",
    "        elif 25 <= imc < 29.9:\n",
    "            categoria = \"Sobrepeso\"\n",
    "        elif 30 <= imc < 34.9:\n",
    "            categoria = \"Eres un tanque\"\n",
    "        elif 35 <= imc < 39.9:\n",
    "            categoria = \"Eres como la tierra\"\n",
    "        else:\n",
    "            categoria = \"Deberias hacer mucho ejercicio o te vas ha morir\"\n",
    "        \n",
    "        print(f\"Categoria: {categoria}\")\n",
    "    \n",
    "    except ValueError: # Si no se ejecuta el tipo de valor numerico, se imprimira el mensaje de abajo. Pieza necesaria para el try.\n",
    "        print(\"Por favor, introduce valores numericos validos para el peso y la altura.\")\n",
    "\n",
    "# Ejecutar la funcion (Llamada a la funcion del principio ,def calcular_imc()\n",
    "calcular_imc()\n",
    "\n",
    "# En la identacion se puede observa la estructura."
   ]
  },
  {
   "cell_type": "code",
   "execution_count": 1,
   "metadata": {},
   "outputs": [
    {
     "name": "stdout",
     "output_type": "stream",
     "text": [
      "Tu índice de masa corporal (IMC) es: 17.33\n",
      "Categoría: Peso mosca\n"
     ]
    }
   ],
   "source": [
    "# Version 2 - Modificacion y correcion entre pares.\n",
    "def calcular_imc():\n",
    "    try:\n",
    "        peso = float(input(\"Introduce tu peso en kg (ej: 80.9): \"))\n",
    "        altura = float(input(\"Introduce tu altura en metros (ej: 1.75): \"))\n",
    "        # Entre la linea 8 y la 15 esta la modificacion.\n",
    "        # Validación del peso y altura  con una estructura condicional\n",
    "        if peso <= 0 or peso > 300:\n",
    "            print(\"Error: El peso debe estar entre 0 y 300 kg. No se puede calcular el IMC.\")\n",
    "        elif altura <= 0 or altura > 2.70:\n",
    "            print(\"Error: La altura debe estar entre 0 y 2.70 metros. No se puede calcular el IMC.\")\n",
    "        else:\n",
    "            # Solo se ejecuta si el peso y la altura son válidos\n",
    "            imc = peso / (altura ** 2)\n",
    "            print(f\"Tu índice de masa corporal (IMC) es: {imc:.2f}\")\n",
    "            # Utilizo otra estructura condicional dentro del else. Estructura condicional anidada.\n",
    "            # Clasificación del IMC\n",
    "            if imc < 18.5:\n",
    "                categoria = \"Peso mosca\"\n",
    "            elif 18.5 <= imc < 24.9:\n",
    "                categoria = \"Peso normal\"\n",
    "            elif 25 <= imc < 29.9:\n",
    "                categoria = \"Sobrepeso\"\n",
    "            elif 30 <= imc < 34.9:\n",
    "                categoria = \"Eres un tanque\"\n",
    "            elif 35 <= imc < 39.9:\n",
    "                categoria = \"Eres como la tierra\"\n",
    "            else:\n",
    "                categoria = \"Deberías hacer mucho ejercicio o te vas a morir\"\n",
    "\n",
    "            print(f\"Categoría: {categoria}\")\n",
    "    \n",
    "    except ValueError:\n",
    "        print(\"Por favor, introduce valores numéricos válidos para el peso y la altura.\")\n",
    "\n",
    "calcular_imc()\n"
   ]
  },
  {
   "cell_type": "markdown",
   "metadata": {},
   "source": [
    "- Ejercicio 2\n",
    "\n",
    "Conversor de temperaturas.\n",
    "\n",
    "Existen diversas unidades de temperatura utilizadas en distintos contextos y regiones. Las más comunes son Celsius (°C), Fahrenheit (°F) y Kelvin (K). También existen otras unidades como Rankine (°Ra) y Réaumur (°Re). Selecciona al menos 2 conversores, de modo que al introducir una temperatura devuelva, como mínimo, dos conversiones."
   ]
  },
  {
   "cell_type": "code",
   "execution_count": 10,
   "metadata": {},
   "outputs": [
    {
     "name": "stdout",
     "output_type": "stream",
     "text": [
      "Unidad desconocida. Por favor, introduce C, F o K.\n"
     ]
    }
   ],
   "source": [
    "# Funcion def + nombre dela funcion () sin parametros. Esto se solicitaran a los usuarios\n",
    "def convertir_temperatura():\n",
    "    # Pedir la temperatura y la unidad de origen\n",
    "    # Estructura try para poder añadir una excepcion[linea 34]\n",
    "    try: \n",
    "        temperatura = float(input(\"Introduce la temperatura que deseas convertir: \"))\n",
    "        unidad_origen = input(\"Introduce la unidad de la temperatura en (C, F, K): \")#.upper() convierte en mayuscula, se puede dejar para asegurarnos que muestre el resultado.\n",
    "        \n",
    "        # Comprobamos la unidad y hacemos las conversiones\n",
    "        \"\"\" \n",
    "        Estructura condicional , donde dependiendo la unidad de origen  (C,celsius- F,Farenheit- K,Kelvin)\n",
    "        Unidad de origen , mas las dos medidas a comprar , con la formula de conversion.\n",
    "        Por ultimo un encadenado String donde muestra la equivalencia {}\n",
    "        \"\"\"\n",
    "\n",
    "        if unidad_origen == 'C': # Si unidad_origen es igual == C,celsius\n",
    "            fahrenheit = (temperatura * 9/5) + 32 # Variable = (variable temperatura[linea 5] formula1 ) formula2 Calculo comparativo con F\n",
    "            kelvin = temperatura + 273.15 # Variable = variable[linea 5] formula . Calculo comparativo con K\n",
    "            print(f\"{temperatura} °C equivale a {fahrenheit:.2f} °F y {kelvin:.2f} K\") # Muestra por pantalla la compraracion de unidad_origen[linea 6] con el restro de temperaturas\n",
    "        \n",
    "        elif unidad_origen == 'F':\n",
    "            celsius = (temperatura - 32) * 5/9\n",
    "            kelvin = (temperatura - 32) * 5/9 + 273.15\n",
    "            print(f\"{temperatura} °F equivale a {celsius:.2f} °C y {kelvin:.2f} K\")\n",
    "        \n",
    "        elif unidad_origen == 'K':\n",
    "            celsius = temperatura - 273.15\n",
    "            fahrenheit = (temperatura - 273.15) * 9/5 + 32\n",
    "            print(f\"{temperatura} K equivale a {celsius:.2f} °C y {fahrenheit:.2f} °F\")\n",
    "        \n",
    "        else:\n",
    "            print(\"Unidad desconocida. Por favor, introduce C, F o K.\")\n",
    "    \n",
    "    except ValueError:\n",
    "        print(\"Introduce un valor numérico válido para la temperatura.\")\n",
    "\n",
    "# Ejecutar (Llamar) la funcion\n",
    "convertir_temperatura()\n"
   ]
  },
  {
   "cell_type": "markdown",
   "metadata": {},
   "source": [
    "Tanto en el ejercicio 1 como en el ejercicio 2 se me ha sugerido limitar el tamaño del número a introducir por el usuario. Por una parte creo que tendría lógica, pero por otra no.\n",
    "\n",
    "Según mi corrector, el usuario podría poner 1000 kg o 1.200 m, o en el ejercicio 2, 4000 °C. \n",
    "En el primer caso quizás pueda tener razón, pero en el segundo no la comparto.\n",
    "\n",
    "Creo que la medición de la temperatura puede ser extrema, como en el Sol, depende de lo que quieras medir.\n",
    "En la primera quizás tenga razón, y por eso realicé la modificación con una versión 2 del ejercicio 1."
   ]
  },
  {
   "cell_type": "markdown",
   "metadata": {},
   "source": [
    "- Ejercicio 3\n",
    "\n",
    "Contador de palabras de un texto.\n",
    "\n",
    "Escribe una función que da un texto, muestre las veces que aparece cada palabra."
   ]
  },
  {
   "cell_type": "code",
   "execution_count": 13,
   "metadata": {},
   "outputs": [
    {
     "data": {
      "text/plain": [
       "{'cago': 1, 'del': 1, 'infierno': 1, 'me': 1, 'perro': 1}"
      ]
     },
     "execution_count": 13,
     "metadata": {},
     "output_type": "execute_result"
    }
   ],
   "source": [
    "#Contador de palabras\n",
    "texto = (input('Escribe un texto')).lower() #variable = input [pide al usuario] y lo tranforma todo a minuscula. Str creo que no es necesario, porque imput ya devuelve string.\n",
    "# Se genera funcion def nombre con parametro(texto linea 2)\n",
    "def funcion_cuenta_palabras(texto):\n",
    "        \n",
    "        from collections import Counter   # Modulo collections se utiliza para contar los elementos en una lista, cadena etc .Y devolver un diccionario donde las claves son los elementos y los valores son la cantidad de veces que aparecen.\n",
    "        # Counter  biblioteca crea un diccionario las calves son los elementos  y los valores la cantidad de veces que se repiten.\n",
    "        import re  # Es una biblioteca para trabaja con cadenas de texto. (strings)  \n",
    "        contenido_sin_puntuacion = re.sub(r'[^\\w\\s]', '', texto) #para quitar comas,etc. Remplazar no alphanumericos o espacios.\n",
    "        lista = contenido_sin_puntuacion.split() # Divide el texto en una lista de palabras. Metodo split separa la cadena.\n",
    "        lista_ord = sorted(lista) # ordena la lista alfaveticamente de la list_ord\n",
    "        for i in range(len(lista_ord)): # Bucle que recorre  list_ord para el calculo .\n",
    "                dicc_orden = dict(Counter(lista_ord))  #Counter para contar cuantas veces y lo convierte en un diccioonario que almacena en la variable.\n",
    "        return dicc_orden # Devuelve el diccionario con las palabras como clave y la cantidad de veces que aprecen\n",
    "# Llamada de la funcion\n",
    "funcion_cuenta_palabras(texto)"
   ]
  },
  {
   "cell_type": "markdown",
   "metadata": {},
   "source": [
    "- Ejercicio 4\n",
    "\n",
    "Diccionario inverso.\n",
    "\n",
    "Resulta que el cliente tiene una encuesta muy antigua que se almacena en un diccionario y los resultados los necesita a la inversa, es decir, intercambiados las claves y valores. Los valores y claves en el diccionario original son únicos; si éste no es el caso, la función debería imprimir un mensaje de advertencia."
   ]
  },
  {
   "cell_type": "code",
   "execution_count": 18,
   "metadata": {},
   "outputs": [
    {
     "name": "stdout",
     "output_type": "stream",
     "text": [
      "Advertencia: Se encontraron valores duplicados: ['yellow']\n"
     ]
    },
    {
     "data": {
      "text/plain": [
       "{'Pikachu': 'NombrePokemon',\n",
       " 'No': 'Evolucion',\n",
       " 'Electrico': 'tipo',\n",
       " 'yellow': 'color'}"
      ]
     },
     "execution_count": 18,
     "metadata": {},
     "output_type": "execute_result"
    }
   ],
   "source": [
    "# Creacion de diccionario original\n",
    "dict_original = { \n",
    "    \"NombrePokemon\": 'Pikachu', \n",
    "    \"Evolucion\": 'No', \n",
    "    \"tipo\": 'Electrico', \n",
    "    \"color\": 'yellow',\n",
    "    \"colorSecundario\": 'yellow'\n",
    "}\n",
    "#Creacion de funcion def nombre de la funcion y parametro (Linea 2)\n",
    "def invertir_dicc(dict_original):\n",
    "    diccionario_invertido = {}  # Diccionario vacio para el diccionario invertido\n",
    "    valores_duplicados = []  # Lista para almacenar los valores duplicados\n",
    "    \n",
    "    for key, valor in dict_original.items():  # Recorre cada par clave-valor del diccionario\n",
    "        if valor in diccionario_invertido:  # Si el valor ya esta en el diccionario invertido\n",
    "            valores_duplicados.append(valor)  # Añadimos el valor duplicado a la lista\n",
    "            print(\"Advertencia: Se encontraron valores duplicados:\", valores_duplicados)  # Imprimimos la advertencia\n",
    "        else:\n",
    "            diccionario_invertido[valor] = key  # Invertimos el par clave-valor si no es un duplicado\n",
    "    \n",
    "    return diccionario_invertido  # Retornamos el diccionario invertido\n",
    "\n",
    "# Llamamos a la función y mostramos el resultado\n",
    "invertir_dicc(dict_original)\n"
   ]
  },
  {
   "cell_type": "markdown",
   "metadata": {},
   "source": [
    "Nivel 2\n",
    "\n",
    "\n",
    "Ejercicio 1\n",
    "\n",
    "Diccionario inverso con duplicados\n",
    "\n",
    "Continuando con el ejercicio 4 del nivel 1: al cliente se olvidó comentar un detalle y resulta que los valores en el diccionario original pueden duplicarse y más, por lo que las claves intercambiadas pueden tener duplicados. En este caso, en el ejercicio anterior imprimías un mensaje de advertencia, ahora, los valores del diccionario resultante tendrán que almacenarse como una lista. Ten en cuenta que si es un valor único no debe ser una lista."
   ]
  },
  {
   "cell_type": "code",
   "execution_count": null,
   "metadata": {},
   "outputs": [],
   "source": [
    "# Se crea el diccionario_original del ejercicio \n",
    "dict_original = { \n",
    "    \"NombrePokemon\": 'Pikachu', \n",
    "    \"Evolucion\": 'No', \n",
    "    \"tipo\": 'Electrico', \n",
    "    \"color\": 'yellow',\n",
    "    \"ColorSecundario\": 'yellow'\n",
    "}\n",
    "# Se crea la funcion con def Nombre de la funcion y (parametr linea 2)\n",
    "def invertir_dicc_con_duplicados(dict_original):\n",
    "    diccionario_invertido = {}  # Creación de un diccionario vacío para almacenar la inversión\n",
    "    \n",
    "    for key, valor in dict_original.items():  # Recorre el diccionario original\n",
    "        if valor in diccionario_invertido:    # Si el valor ya está en el diccionario invertido\n",
    "            if isinstance(diccionario_invertido[valor], list):  # Si ya es una lista, añade la clave\n",
    "                diccionario_invertido[valor].append(key)\n",
    "            elif isinstance(diccionario_invertido[valor], str):  # Si es una clave única, conviértelo en lista\n",
    "                diccionario_invertido[valor] = [diccionario_invertido[valor], key]\n",
    "        else:\n",
    "            diccionario_invertido[valor] = key  # Si el valor no está aún, se invierte el par clave-valor\n",
    "    \n",
    "    return diccionario_invertido  # Devuelve el diccionario invertido\n",
    "\n",
    "resultado = invertir_dicc_con_duplicados(dict_original) # se crea variable para almacenar , llamar y despues imprimir el resultado de la funcion.\n",
    "print(resultado)\n"
   ]
  }
 ],
 "metadata": {
  "kernelspec": {
   "display_name": "Python 3",
   "language": "python",
   "name": "python3"
  },
  "language_info": {
   "codemirror_mode": {
    "name": "ipython",
    "version": 3
   },
   "file_extension": ".py",
   "mimetype": "text/x-python",
   "name": "python",
   "nbconvert_exporter": "python",
   "pygments_lexer": "ipython3",
   "version": "3.12.7"
  }
 },
 "nbformat": 4,
 "nbformat_minor": 2
}
